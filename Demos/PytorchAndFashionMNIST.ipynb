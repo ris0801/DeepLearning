{
  "cells": [
    {
      "cell_type": "markdown",
      "metadata": {
        "id": "view-in-github",
        "colab_type": "text"
      },
      "source": [
        "<a href=\"https://colab.research.google.com/github/ris0801/DeepLearning/blob/main/PytorchAndFashionMNIST.ipynb\" target=\"_parent\"><img src=\"https://colab.research.google.com/assets/colab-badge.svg\" alt=\"Open In Colab\"/></a>"
      ]
    },
    {
      "cell_type": "code",
      "execution_count": null,
      "metadata": {
        "id": "wXx-hxkqKQPY"
      },
      "outputs": [],
      "source": [
        "import numpy as np\n",
        "import torch\n",
        "import torchvision"
      ]
    },
    {
      "cell_type": "code",
      "execution_count": null,
      "metadata": {
        "colab": {
          "base_uri": "https://localhost:8080/"
        },
        "id": "95QgRX-LKvF2",
        "outputId": "28f09571-05d6-4c04-a898-2f0a1ca39779"
      },
      "outputs": [
        {
          "output_type": "stream",
          "name": "stdout",
          "text": [
            "[[0.11463397 0.1134535  0.94464483]\n",
            " [0.82862788 0.16638008 0.04989895]]\n",
            "tensor([[0.1146, 0.1135, 0.9446],\n",
            "        [0.8286, 0.1664, 0.0499]], dtype=torch.float64)\n"
          ]
        }
      ],
      "source": [
        "a = np.random.rand(2,3)\n",
        "b = torch.from_numpy(a)\n",
        "\n",
        "print(a)\n",
        "print(b)\n",
        "     "
      ]
    },
    {
      "cell_type": "code",
      "execution_count": null,
      "metadata": {
        "colab": {
          "base_uri": "https://localhost:8080/"
        },
        "id": "r-x1xvFFK4Vj",
        "outputId": "e86b038d-3eb4-4b82-d446-10a4d2f11f71"
      },
      "outputs": [
        {
          "output_type": "stream",
          "name": "stdout",
          "text": [
            "tensor([[10.1146, 10.1135, 10.9446],\n",
            "        [10.8286, 10.1664, 10.0499]], dtype=torch.float64)\n",
            "\n",
            "tensor([[0.1144, 0.1132, 0.8103],\n",
            "        [0.7370, 0.1656, 0.0499]], dtype=torch.float64)\n",
            "\n",
            "tensor(2.2176, dtype=torch.float64)\n",
            "\n",
            "tensor(0.3696, dtype=torch.float64)\n",
            "\n",
            "torch.Size([2, 3])\n"
          ]
        }
      ],
      "source": [
        "print(b + 10.0)\n",
        "print()\n",
        "print(torch.sin(b))\n",
        "print()\n",
        "print(b.sum())\n",
        "print()\n",
        "print(b.mean())\n",
        "print()\n",
        "print(b.shape)"
      ]
    },
    {
      "cell_type": "code",
      "execution_count": null,
      "metadata": {
        "colab": {
          "base_uri": "https://localhost:8080/"
        },
        "id": "u3JIXv98LEY5",
        "outputId": "dc81e42e-dbd4-4cb2-c738-01f21e1f5bba"
      },
      "outputs": [
        {
          "output_type": "stream",
          "name": "stdout",
          "text": [
            "tensor([[0.0084]], requires_grad=True)\n",
            "tensor([[0.2295]])\n",
            "tensor([[0.2379]], grad_fn=<AddBackward0>)\n"
          ]
        }
      ],
      "source": [
        "a = torch.rand(1,1,requires_grad = True)\n",
        "print(a)\n",
        "b = torch.rand(1,1)\n",
        "print(b)\n",
        "\n",
        "y = a + b\n",
        "print(y)"
      ]
    },
    {
      "cell_type": "code",
      "execution_count": null,
      "metadata": {
        "id": "3yZKEmGALvvz"
      },
      "outputs": [],
      "source": [
        "y.backward()"
      ]
    },
    {
      "cell_type": "code",
      "execution_count": null,
      "metadata": {
        "colab": {
          "base_uri": "https://localhost:8080/"
        },
        "id": "PPyC5DcbOdUz",
        "outputId": "fe44b5b1-217d-46a5-e30d-8383d58ced42"
      },
      "outputs": [
        {
          "output_type": "stream",
          "name": "stdout",
          "text": [
            "dy/da: tensor([[1.]])\n"
          ]
        }
      ],
      "source": [
        "print(\"dy/da:\", a.grad)"
      ]
    },
    {
      "cell_type": "code",
      "execution_count": null,
      "metadata": {
        "colab": {
          "base_uri": "https://localhost:8080/"
        },
        "id": "1kGe1BHUPHGB",
        "outputId": "5f0e5958-e0e2-49f6-9e1c-d1ec68e63101"
      },
      "outputs": [
        {
          "output_type": "stream",
          "name": "stdout",
          "text": [
            "tensor([[0.5895]], requires_grad=True)\n",
            "tensor([[0.7461]])\n",
            "tensor([[0.2593]], grad_fn=<MulBackward0>)\n",
            "dy/da: tensor([[0.8796]])\n",
            "dy/da: tensor([[0.8796]], grad_fn=<MulBackward0>)\n"
          ]
        }
      ],
      "source": [
        "a = torch.rand(1,1,requires_grad = True)\n",
        "b = torch.rand(1,1)\n",
        "y = (a**2)*b\n",
        "\n",
        "print(a)\n",
        "print(b)\n",
        "print(y)\n",
        "\n",
        "y.backward()\n",
        "print(\"dy/da:\", a.grad)\n",
        "print(\"dy/da:\",2*a*b)"
      ]
    },
    {
      "cell_type": "code",
      "execution_count": null,
      "metadata": {
        "colab": {
          "base_uri": "https://localhost:8080/"
        },
        "id": "Dvi7eaB_Q-QM",
        "outputId": "117e1398-d433-4ba9-eac4-9ccac9143dcf"
      },
      "outputs": [
        {
          "output_type": "stream",
          "name": "stdout",
          "text": [
            "A: tensor([[0.2174, 0.7086],\n",
            "        [0.8088, 0.3988]], requires_grad=True)\n",
            "B: tensor([[0.9576],\n",
            "        [0.6538]])\n",
            "C: tensor([[0.4858],\n",
            "        [0.2939]])\n",
            "X: tensor([[1.1573],\n",
            "        [1.3292]], grad_fn=<AddBackward0>)\n",
            "Z: tensor(2.4865, grad_fn=<SumBackward0>)\n",
            "tensor([[0.9576, 0.6538],\n",
            "        [0.9576, 0.6538]])\n",
            "tensor([[0.9576],\n",
            "        [0.6538]])\n"
          ]
        }
      ],
      "source": [
        "A = torch.rand(2,2,requires_grad = True)\n",
        "B = torch.rand(2,1)\n",
        "C = torch.rand(2,1)\n",
        "\n",
        "print(\"A:\", A)\n",
        "print(\"B:\", B)\n",
        "print(\"C:\", C)\n",
        "\n",
        "X = torch.matmul(A,B) + C\n",
        "print(\"X:\",X)\n",
        "\n",
        "Z = X.sum()\n",
        "print(\"Z:\", Z)\n",
        "\n",
        "Z.backward()\n",
        "print(A.grad)\n",
        "print(B)"
      ]
    },
    {
      "cell_type": "markdown",
      "metadata": {
        "id": "k_VXq-6QTP-f"
      },
      "source": [
        "Training Simple Models"
      ]
    },
    {
      "cell_type": "code",
      "execution_count": null,
      "metadata": {
        "id": "vd4Flo2HTSuq"
      },
      "outputs": [],
      "source": [
        "trainingdata = torchvision.datasets.FashionMNIST('./FashionMNIST/',train=True,download=True,transform=torchvision.transforms.ToTensor())\n",
        "testdata = torchvision.datasets.FashionMNIST('./FashionMNIST/',train=False,download=True,transform=torchvision.transforms.ToTensor())"
      ]
    },
    {
      "cell_type": "code",
      "execution_count": null,
      "metadata": {
        "colab": {
          "base_uri": "https://localhost:8080/"
        },
        "id": "LN08V8_oTUXt",
        "outputId": "fb6d4646-e99b-4570-ec21-d30b599d828b"
      },
      "outputs": [
        {
          "output_type": "stream",
          "name": "stdout",
          "text": [
            "60000\n",
            "10000\n"
          ]
        }
      ],
      "source": [
        "print(len(trainingdata))\n",
        "print(len(testdata))     "
      ]
    },
    {
      "cell_type": "code",
      "execution_count": null,
      "metadata": {
        "colab": {
          "base_uri": "https://localhost:8080/"
        },
        "id": "C1EZ572aTY3l",
        "outputId": "91535097-018a-4d45-e2e1-3c683be92108"
      },
      "outputs": [
        {
          "output_type": "stream",
          "name": "stdout",
          "text": [
            "torch.Size([1, 28, 28]) 9\n"
          ]
        }
      ],
      "source": [
        "image, label = trainingdata[0]\n",
        "print(image.shape, label)"
      ]
    },
    {
      "cell_type": "code",
      "execution_count": null,
      "metadata": {
        "colab": {
          "base_uri": "https://localhost:8080/"
        },
        "id": "2yWzf4UMTfqd",
        "outputId": "9e06044a-3cb9-4f93-9078-5b7776253b77"
      },
      "outputs": [
        {
          "output_type": "stream",
          "name": "stdout",
          "text": [
            "torch.Size([28, 28])\n"
          ]
        }
      ],
      "source": [
        "print(image.squeeze().shape)"
      ]
    },
    {
      "cell_type": "code",
      "execution_count": null,
      "metadata": {
        "colab": {
          "base_uri": "https://localhost:8080/"
        },
        "id": "gvW0wtALUkjM",
        "outputId": "759d37fe-a5e9-4f0a-f309-2de323c130d7"
      },
      "outputs": [
        {
          "output_type": "stream",
          "name": "stdout",
          "text": [
            "torch.Size([1, 28, 28])\n"
          ]
        }
      ],
      "source": [
        "print(image.shape)"
      ]
    },
    {
      "cell_type": "code",
      "execution_count": null,
      "metadata": {
        "colab": {
          "base_uri": "https://localhost:8080/",
          "height": 282
        },
        "id": "5L-_qmN3UJVi",
        "outputId": "1eb8c037-61d9-4095-e251-7d3f105a88d5"
      },
      "outputs": [
        {
          "output_type": "execute_result",
          "data": {
            "text/plain": [
              "<matplotlib.image.AxesImage at 0x7f96eef47af0>"
            ]
          },
          "metadata": {},
          "execution_count": 14
        },
        {
          "output_type": "display_data",
          "data": {
            "text/plain": [
              "<Figure size 432x288 with 1 Axes>"
            ],
            "image/png": "[encoded data removed]"
          },
          "metadata": {
            "needs_background": "light"
          }
        }
      ],
      "source": [
        "import matplotlib.pyplot as plt \n",
        "%matplotlib inline\n",
        "plt.imshow(image.squeeze(),cmap=plt.cm.gray)"
      ]
    },
    {
      "cell_type": "markdown",
      "source": [
        "Converting dataset to dataloader. \n",
        "It's nice for iterating over dataset"
      ],
      "metadata": {
        "id": "BNdcLlHdWjt9"
      }
    },
    {
      "cell_type": "code",
      "execution_count": null,
      "metadata": {
        "id": "nVdtFbTvV4xo"
      },
      "outputs": [],
      "source": [
        "#shuffling the trainData, common thing to do in neural network\n",
        "trainDataLoader = torch.utils.data.DataLoader(trainingdata, batch_size = 64, shuffle = True)\n",
        "# Why is shuffle false here?\n",
        "testDataLoader = torch.utils.data.DataLoader(testdata, batch_size=64,shuffle = False)"
      ]
    },
    {
      "cell_type": "code",
      "execution_count": null,
      "metadata": {
        "colab": {
          "base_uri": "https://localhost:8080/"
        },
        "id": "7gchfkayWXdQ",
        "outputId": "c533eb84-3045-441d-fd59-8e04c09e58ea"
      },
      "outputs": [
        {
          "output_type": "stream",
          "name": "stdout",
          "text": [
            "938\n",
            "157\n"
          ]
        }
      ],
      "source": [
        "print(len(trainDataLoader))\n",
        "print(len(testDataLoader))"
      ]
    },
    {
      "cell_type": "code",
      "execution_count": null,
      "metadata": {
        "colab": {
          "base_uri": "https://localhost:8080/"
        },
        "id": "M3J7aMTdXD6E",
        "outputId": "42d5c81a-486e-4aeb-9107-de6da365d502"
      },
      "outputs": [
        {
          "output_type": "stream",
          "name": "stdout",
          "text": [
            "60032\n",
            "10048\n"
          ]
        }
      ],
      "source": [
        "print(len(trainDataLoader) * 64)\n",
        "print(len(testDataLoader) * 64)"
      ]
    },
    {
      "cell_type": "code",
      "execution_count": null,
      "metadata": {
        "colab": {
          "base_uri": "https://localhost:8080/",
          "height": 160
        },
        "id": "0Ef0gjNKYKmc",
        "outputId": "c66e0dfa-63cb-4eab-fc88-0c7860ab7a5b"
      },
      "outputs": [
        {
          "output_type": "display_data",
          "data": {
            "text/plain": [
              "<Figure size 720x288 with 5 Axes>"
            ],
            "image/png": "[encoded data removed]"
          },
          "metadata": {
            "needs_background": "light"
          }
        }
      ],
      "source": [
        "#iter to create an iter object of trainDataLoader and next to get the first batch\n",
        "images, labels = next(iter(trainDataLoader))\n",
        "\n",
        "plt.figure(figsize=(10,4))\n",
        "for index in np.arange(0,5):\n",
        "  # This tells to create one row, five columns\n",
        "  plt.subplot(1,5,index+1)\n",
        "  plt.title(f'Label: {labels[index].item()}')\n",
        "  plt.imshow(images[index].squeeze(),cmap=plt.cm.gray)"
      ]
    },
    {
      "cell_type": "markdown",
      "metadata": {
        "id": "kZ2g3FtmYUvZ"
      },
      "source": [
        "Setting up the model"
      ]
    },
    {
      "cell_type": "code",
      "execution_count": null,
      "metadata": {
        "id": "ucrv6sGaXV3w"
      },
      "outputs": [],
      "source": [
        "#pytorch is very object oriented, lot of times we start by creating a class\n",
        "class LinearReg(torch.nn.Module):\n",
        "  def __init__(self):\n",
        "    super(LinearReg, self).__init__()\n",
        "    # We are flattening the image into a linear vector\n",
        "    # applies linear transformation on incoming data x \n",
        "    self.linear = torch.nn.Linear(28*28, 10)\n",
        "\n",
        "  def forward(self,x):\n",
        "    x = x.view(-1, 28*28)\n",
        "    return self.linear(x)\n",
        "\n",
        "#These are 3 steps in machine learning \n",
        "#1. Creating a model\n",
        "# 2. Getting a loss function \n",
        "# 3. Running a optimizer to optimize the loss\n",
        "\n",
        "#This is instanting the model and moving it over gpu \n",
        "model = LinearReg().cuda() # archictecture\n",
        "# We need a measure of goodness\n",
        "loss = torch.nn.CrossEntropyLoss() # loss\n",
        "# Update the weights of matrix\n",
        "optimizer = torch.optim.SGD(model.parameters(), lr=0.01) #training method"
      ]
    },
    {
      "cell_type": "code",
      "execution_count": null,
      "metadata": {
        "colab": {
          "base_uri": "https://localhost:8080/"
        },
        "id": "zz4g0ccKYZuL",
        "outputId": "574681be-5cc8-4ef3-c6a5-8b81b5c30a07"
      },
      "outputs": [
        {
          "output_type": "stream",
          "name": "stdout",
          "text": [
            "Epoch 0, Train loss 0.9623264711040423, Test loss 0.7388534974900021\n",
            "Epoch 1, Train loss 0.6676324252317201, Test loss 0.6477745501858414\n",
            "Epoch 2, Train loss 0.6034518775146908, Test loss 0.6046121951880729\n",
            "Epoch 3, Train loss 0.568652017157215, Test loss 0.5787125258309067\n",
            "Epoch 4, Train loss 0.5455747268029622, Test loss 0.560371350710559\n",
            "Epoch 5, Train loss 0.5291720433021659, Test loss 0.5462334188306408\n",
            "Epoch 6, Train loss 0.5162577215415328, Test loss 0.5374249874786207\n",
            "Epoch 7, Train loss 0.5061110629996003, Test loss 0.5281165255482789\n",
            "Epoch 8, Train loss 0.49768437006707383, Test loss 0.5204960309016476\n",
            "Epoch 9, Train loss 0.49050473523483096, Test loss 0.5148955790480231\n",
            "Epoch 10, Train loss 0.4841089566538075, Test loss 0.5115069838086511\n",
            "Epoch 11, Train loss 0.47885652086628017, Test loss 0.5070336711634497\n",
            "Epoch 12, Train loss 0.47434465151860006, Test loss 0.5022328209345508\n",
            "Epoch 13, Train loss 0.469925598549182, Test loss 0.49822540590717534\n",
            "Epoch 14, Train loss 0.4660274998815075, Test loss 0.4944641003563146\n",
            "Epoch 15, Train loss 0.46267062960974953, Test loss 0.49179042182910215\n",
            "Epoch 16, Train loss 0.4593256816331512, Test loss 0.4898809526756311\n",
            "Epoch 17, Train loss 0.4566190046097424, Test loss 0.4865019980129922\n",
            "Epoch 18, Train loss 0.4539953884221852, Test loss 0.48469884437360583\n",
            "Epoch 19, Train loss 0.4517086027368808, Test loss 0.4838276676311614\n"
          ]
        }
      ],
      "source": [
        "train_loss_history = []\n",
        "test_loss_history = []\n",
        "\n",
        "# One epoch is passing over the training data once\n",
        "# 20 epochs is passing over the entire data 20 times \n",
        "for epoch in range(20):\n",
        "  train_loss = 0.0\n",
        "  test_loss = 0.0\n",
        "  \n",
        "  #telling pytorch we are interested in updating the parameters\n",
        "  model.train()\n",
        "  for i, data in enumerate(trainDataLoader):\n",
        "    images, labels = data\n",
        "    #Because we have our model on GPU, we need to push images and label on \n",
        "    #GPU as well\n",
        "    images = images.cuda()\n",
        "    labels = labels.cuda()\n",
        "    optimizer.zero_grad() # zero out any gradient values from the previous iteration\n",
        "    predicted_output = model(images) # forward propagation  \n",
        "    fit = loss(predicted_output, labels)  # calculate our measure of goodness\n",
        "    fit.backward() # backpropagation\n",
        "    optimizer.step() # update the weights of our trainable parameters\n",
        "    train_loss += fit.item()\n",
        "\n",
        "  # Setting to evaluation mode, so no gradients are computed \n",
        "  model.eval()\n",
        "  for i, data in enumerate(testDataLoader):\n",
        "    #Telling pytorch again to not compute any gradients\n",
        "    with torch.no_grad():\n",
        "      images, labels = data\n",
        "      images = images.cuda()\n",
        "      labels = labels.cuda()\n",
        "      predicted_output = model(images)\n",
        "      fit = loss(predicted_output, labels)\n",
        "      test_loss += fit.item()\n",
        "  train_loss = train_loss / len(trainDataLoader)\n",
        "  test_loss = test_loss / len(testDataLoader)\n",
        "  train_loss_history += [train_loss]\n",
        "  test_loss_history += [test_loss]\n",
        "  print(f'Epoch {epoch}, Train loss {train_loss}, Test loss {test_loss}')\n"
      ]
    },
    {
      "cell_type": "code",
      "execution_count": null,
      "metadata": {
        "colab": {
          "base_uri": "https://localhost:8080/",
          "height": 279
        },
        "id": "2gXzAdGGZFF9",
        "outputId": "c3a065ec-c5a4-4d6c-d92f-7739a46e1316"
      },
      "outputs": [
        {
          "output_type": "display_data",
          "data": {
            "text/plain": [
              "<Figure size 432x288 with 1 Axes>"
            ],
            "image/png": "[encoded data removed]"
          },
          "metadata": {
            "needs_background": "light"
          }
        }
      ],
      "source": [
        "plt.plot(range(20),train_loss_history,'-',linewidth=3,label='Train error')\n",
        "plt.plot(range(20),test_loss_history,'-',linewidth=3,label='Test error')\n",
        "plt.xlabel('epoch')\n",
        "plt.ylabel('loss')\n",
        "plt.grid(True)\n",
        "plt.legend()\n",
        "plt.show()"
      ]
    },
    {
      "cell_type": "code",
      "source": [
        "predicted_outputs = model(images)\n",
        "predicted_classes = torch.max(predicted_outputs, 1)[1]\n",
        "print('Predicted:', predicted_classes)\n",
        "fit = loss(predicted_output, labels)\n",
        "print('True labels:', labels)\n",
        "print(fit.item())"
      ],
      "metadata": {
        "id": "Au_qlN4cfuOr",
        "outputId": "54432209-6211-4f27-a86d-fc4d07247d1a",
        "colab": {
          "base_uri": "https://localhost:8080/"
        }
      },
      "execution_count": null,
      "outputs": [
        {
          "output_type": "stream",
          "name": "stdout",
          "text": [
            "Predicted: tensor([3, 1, 7, 5, 8, 2, 5, 6, 8, 9, 1, 9, 1, 8, 1, 5], device='cuda:0')\n",
            "True labels: tensor([3, 2, 7, 5, 8, 4, 5, 6, 8, 9, 1, 9, 1, 8, 1, 5], device='cuda:0')\n",
            "0.3279632329940796\n"
          ]
        }
      ]
    },
    {
      "cell_type": "code",
      "source": [
        "plt.imshow(images[1].squeeze().cpu(), cmap=plt.cm.gray)\n",
        "plt.title(f'Pred: {predicted_classes[1].item()}, True: {labels[1].item()}')"
      ],
      "metadata": {
        "id": "p-_lfTt0fw_V",
        "outputId": "5a8a6f87-8097-4218-83e6-bd527330163c",
        "colab": {
          "base_uri": "https://localhost:8080/",
          "height": 298
        }
      },
      "execution_count": null,
      "outputs": [
        {
          "output_type": "execute_result",
          "data": {
            "text/plain": [
              "Text(0.5, 1.0, 'Pred: 1, True: 2')"
            ]
          },
          "metadata": {},
          "execution_count": 24
        },
        {
          "output_type": "display_data",
          "data": {
            "text/plain": [
              "<Figure size 432x288 with 1 Axes>"
            ],
            "image/png": "[encoded data removed]"
          },
          "metadata": {
            "needs_background": "light"
          }
        }
      ]
    }
  ],
  "metadata": {
    "colab": {
      "provenance": [],
      "authorship_tag": "ABX9TyO7xq6GiK3B/EXJYpzFZjCh",
      "include_colab_link": true
    },
    "kernelspec": {
      "display_name": "Python 3",
      "name": "python3"
    },
    "language_info": {
      "name": "python"
    },
    "accelerator": "GPU",
    "gpuClass": "standard"
  },
  "nbformat": 4,
  "nbformat_minor": 0
}