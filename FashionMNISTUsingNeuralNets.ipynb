{
  "cells": [
    {
      "cell_type": "markdown",
      "metadata": {
        "id": "view-in-github",
        "colab_type": "text"
      },
      "source": [
        "<a href=\"https://colab.research.google.com/github/ris0801/DeepLearning/blob/main/FashionMNISTUsingNeuralNets.ipynb\" target=\"_parent\"><img src=\"https://colab.research.google.com/assets/colab-badge.svg\" alt=\"Open In Colab\"/></a>"
      ]
    },
    {
      "cell_type": "code",
      "execution_count": null,
      "metadata": {
        "id": "wXx-hxkqKQPY",
        "colab": {
          "base_uri": "https://localhost:8080/"
        },
        "outputId": "6e0d3b4a-8bfe-4da6-8cd7-680a4c16f514"
      },
      "outputs": [
        {
          "output_type": "stream",
          "name": "stdout",
          "text": [
            "time: 680 µs (started: 2023-02-17 21:26:36 +00:00)\n"
          ]
        }
      ],
      "source": [
        "import numpy as np\n",
        "import torch\n",
        "import torchvision"
      ]
    },
    {
      "cell_type": "code",
      "source": [
        "!pip install ipython-autotime\n",
        "%load_ext autotime"
      ],
      "metadata": {
        "colab": {
          "base_uri": "https://localhost:8080/"
        },
        "id": "7nwLAglCVCQf",
        "outputId": "e502c59e-4782-4e58-ade8-d7084544e95b"
      },
      "execution_count": null,
      "outputs": [
        {
          "output_type": "stream",
          "name": "stdout",
          "text": [
            "Looking in indexes: https://pypi.org/simple, https://us-python.pkg.dev/colab-wheels/public/simple/\n",
            "Requirement already satisfied: ipython-autotime in /usr/local/lib/python3.8/dist-packages (0.3.1)\n",
            "Requirement already satisfied: ipython in /usr/local/lib/python3.8/dist-packages (from ipython-autotime) (7.9.0)\n",
            "Requirement already satisfied: prompt-toolkit<2.1.0,>=2.0.0 in /usr/local/lib/python3.8/dist-packages (from ipython->ipython-autotime) (2.0.10)\n",
            "Requirement already satisfied: pickleshare in /usr/local/lib/python3.8/dist-packages (from ipython->ipython-autotime) (0.7.5)\n",
            "Requirement already satisfied: backcall in /usr/local/lib/python3.8/dist-packages (from ipython->ipython-autotime) (0.2.0)\n",
            "Requirement already satisfied: jedi>=0.10 in /usr/local/lib/python3.8/dist-packages (from ipython->ipython-autotime) (0.18.2)\n",
            "Requirement already satisfied: traitlets>=4.2 in /usr/local/lib/python3.8/dist-packages (from ipython->ipython-autotime) (5.7.1)\n",
            "Requirement already satisfied: decorator in /usr/local/lib/python3.8/dist-packages (from ipython->ipython-autotime) (4.4.2)\n",
            "Requirement already satisfied: pygments in /usr/local/lib/python3.8/dist-packages (from ipython->ipython-autotime) (2.6.1)\n",
            "Requirement already satisfied: pexpect in /usr/local/lib/python3.8/dist-packages (from ipython->ipython-autotime) (4.8.0)\n",
            "Requirement already satisfied: setuptools>=18.5 in /usr/local/lib/python3.8/dist-packages (from ipython->ipython-autotime) (57.4.0)\n",
            "Requirement already satisfied: parso<0.9.0,>=0.8.0 in /usr/local/lib/python3.8/dist-packages (from jedi>=0.10->ipython->ipython-autotime) (0.8.3)\n",
            "Requirement already satisfied: six>=1.9.0 in /usr/local/lib/python3.8/dist-packages (from prompt-toolkit<2.1.0,>=2.0.0->ipython->ipython-autotime) (1.15.0)\n",
            "Requirement already satisfied: wcwidth in /usr/local/lib/python3.8/dist-packages (from prompt-toolkit<2.1.0,>=2.0.0->ipython->ipython-autotime) (0.2.6)\n",
            "Requirement already satisfied: ptyprocess>=0.5 in /usr/local/lib/python3.8/dist-packages (from pexpect->ipython->ipython-autotime) (0.7.0)\n",
            "The autotime extension is already loaded. To reload it, use:\n",
            "  %reload_ext autotime\n",
            "time: 3.08 s (started: 2023-02-17 21:26:36 +00:00)\n"
          ]
        }
      ]
    },
    {
      "cell_type": "markdown",
      "metadata": {
        "id": "k_VXq-6QTP-f"
      },
      "source": [
        "Training Simple Models"
      ]
    },
    {
      "cell_type": "markdown",
      "source": [
        "Downloading dataset for FashionMNIST"
      ],
      "metadata": {
        "id": "_c8zjkGLq_oV"
      }
    },
    {
      "cell_type": "code",
      "execution_count": null,
      "metadata": {
        "id": "vd4Flo2HTSuq",
        "colab": {
          "base_uri": "https://localhost:8080/"
        },
        "outputId": "aa625c62-6a2f-4910-d05e-c80dbcb3d00b"
      },
      "outputs": [
        {
          "output_type": "stream",
          "name": "stdout",
          "text": [
            "time: 80.7 ms (started: 2023-02-17 21:26:40 +00:00)\n"
          ]
        }
      ],
      "source": [
        "trainingdata = torchvision.datasets.FashionMNIST('./FashionMNIST/',train=True,download=True,transform=torchvision.transforms.ToTensor())\n",
        "testdata = torchvision.datasets.FashionMNIST('./FashionMNIST/',train=False,download=True,transform=torchvision.transforms.ToTensor())"
      ]
    },
    {
      "cell_type": "code",
      "execution_count": null,
      "metadata": {
        "colab": {
          "base_uri": "https://localhost:8080/"
        },
        "id": "LN08V8_oTUXt",
        "outputId": "482e8a0e-03c6-4871-b203-9423efe7a31c"
      },
      "outputs": [
        {
          "output_type": "stream",
          "name": "stdout",
          "text": [
            "60000\n",
            "10000\n",
            "time: 1.15 ms (started: 2023-02-17 21:26:40 +00:00)\n"
          ]
        }
      ],
      "source": [
        "print(len(trainingdata))\n",
        "print(len(testdata))     "
      ]
    },
    {
      "cell_type": "code",
      "execution_count": null,
      "metadata": {
        "colab": {
          "base_uri": "https://localhost:8080/"
        },
        "id": "C1EZ572aTY3l",
        "outputId": "3f3fb7c8-fa5e-444a-ff9d-5ed62c193fda"
      },
      "outputs": [
        {
          "output_type": "stream",
          "name": "stdout",
          "text": [
            "torch.Size([1, 28, 28]) 9\n",
            "time: 4.04 ms (started: 2023-02-17 21:26:40 +00:00)\n"
          ]
        }
      ],
      "source": [
        "image, label = trainingdata[0]\n",
        "print(image.shape, label)"
      ]
    },
    {
      "cell_type": "code",
      "execution_count": null,
      "metadata": {
        "colab": {
          "base_uri": "https://localhost:8080/"
        },
        "id": "2yWzf4UMTfqd",
        "outputId": "e1231ba6-63d0-4764-fce8-cc6e2e4ae781"
      },
      "outputs": [
        {
          "output_type": "stream",
          "name": "stdout",
          "text": [
            "torch.Size([28, 28])\n",
            "time: 477 µs (started: 2023-02-17 21:26:40 +00:00)\n"
          ]
        }
      ],
      "source": [
        "print(image.squeeze().shape)"
      ]
    },
    {
      "cell_type": "code",
      "execution_count": null,
      "metadata": {
        "colab": {
          "base_uri": "https://localhost:8080/"
        },
        "id": "gvW0wtALUkjM",
        "outputId": "a1f56139-dd79-4076-9969-a87bc3655952"
      },
      "outputs": [
        {
          "output_type": "stream",
          "name": "stdout",
          "text": [
            "torch.Size([1, 28, 28])\n",
            "time: 665 µs (started: 2023-02-17 21:26:40 +00:00)\n"
          ]
        }
      ],
      "source": [
        "print(image.shape)"
      ]
    },
    {
      "cell_type": "code",
      "execution_count": null,
      "metadata": {
        "colab": {
          "base_uri": "https://localhost:8080/",
          "height": 297
        },
        "id": "5L-_qmN3UJVi",
        "outputId": "c3aeefbf-f40b-48d0-c5f4-617f0299571d"
      },
      "outputs": [
        {
          "output_type": "execute_result",
          "data": {
            "text/plain": [
              "<matplotlib.image.AxesImage at 0x7f3ec203b8e0>"
            ]
          },
          "metadata": {},
          "execution_count": 85
        },
        {
          "output_type": "display_data",
          "data": {
            "text/plain": [
              "<Figure size 432x288 with 1 Axes>"
            ],
            "image/png": "[encoded data removed]"
          },
          "metadata": {
            "image/png": {
              "width": 251,
              "height": 248
            },
            "needs_background": "light"
          }
        },
        {
          "output_type": "stream",
          "name": "stdout",
          "text": [
            "time: 202 ms (started: 2023-02-17 21:26:40 +00:00)\n"
          ]
        }
      ],
      "source": [
        "import matplotlib.pyplot as plt \n",
        "%matplotlib inline\n",
        "plt.imshow(image.squeeze(),cmap=plt.cm.gray)"
      ]
    },
    {
      "cell_type": "markdown",
      "source": [
        "Converting dataset to dataloader. \n",
        "It's nice for iterating over dataset"
      ],
      "metadata": {
        "id": "BNdcLlHdWjt9"
      }
    },
    {
      "cell_type": "code",
      "execution_count": null,
      "metadata": {
        "id": "nVdtFbTvV4xo",
        "colab": {
          "base_uri": "https://localhost:8080/"
        },
        "outputId": "a87801c7-7c57-4b5e-c3d6-94fbbda0cdb6"
      },
      "outputs": [
        {
          "output_type": "stream",
          "name": "stdout",
          "text": [
            "time: 4.24 ms (started: 2023-02-17 21:26:40 +00:00)\n"
          ]
        }
      ],
      "source": [
        "#shuffling the trainData, common thing to do in neural network\n",
        "trainDataLoader = torch.utils.data.DataLoader(trainingdata, batch_size = 64, shuffle = True)\n",
        "# Why is shuffle false here?\n",
        "testDataLoader = torch.utils.data.DataLoader(testdata, batch_size=64,shuffle = False)"
      ]
    },
    {
      "cell_type": "code",
      "execution_count": null,
      "metadata": {
        "colab": {
          "base_uri": "https://localhost:8080/"
        },
        "id": "7gchfkayWXdQ",
        "outputId": "85a818f7-574a-4713-de58-f58e03f7956c"
      },
      "outputs": [
        {
          "output_type": "stream",
          "name": "stdout",
          "text": [
            "938\n",
            "157\n",
            "time: 2.11 ms (started: 2023-02-17 21:26:40 +00:00)\n"
          ]
        }
      ],
      "source": [
        "print(len(trainDataLoader))\n",
        "print(len(testDataLoader))"
      ]
    },
    {
      "cell_type": "code",
      "execution_count": null,
      "metadata": {
        "colab": {
          "base_uri": "https://localhost:8080/"
        },
        "id": "M3J7aMTdXD6E",
        "outputId": "638fd855-b61f-456b-e887-eee6664f8552"
      },
      "outputs": [
        {
          "output_type": "stream",
          "name": "stdout",
          "text": [
            "60032\n",
            "10048\n",
            "time: 2.83 ms (started: 2023-02-17 21:26:40 +00:00)\n"
          ]
        }
      ],
      "source": [
        "print(len(trainDataLoader) * 64)\n",
        "print(len(testDataLoader) * 64)"
      ]
    },
    {
      "cell_type": "code",
      "execution_count": null,
      "metadata": {
        "colab": {
          "base_uri": "https://localhost:8080/",
          "height": 175
        },
        "id": "0Ef0gjNKYKmc",
        "outputId": "501d51d5-1062-4137-9cac-9e0905f646ed"
      },
      "outputs": [
        {
          "output_type": "display_data",
          "data": {
            "text/plain": [
              "<Figure size 720x288 with 5 Axes>"
            ],
            "image/png": "[encoded data removed]"
          },
          "metadata": {
            "image/png": {
              "width": 592,
              "height": 142
            },
            "needs_background": "light"
          }
        },
        {
          "output_type": "stream",
          "name": "stdout",
          "text": [
            "time: 591 ms (started: 2023-02-17 21:26:40 +00:00)\n"
          ]
        }
      ],
      "source": [
        "#iter to create an iter object of trainDataLoader and next to get the first batch\n",
        "images, labels = next(iter(trainDataLoader))\n",
        "\n",
        "plt.figure(figsize=(10,4))\n",
        "for index in np.arange(0,5):\n",
        "  # This tells to create one row, five columns\n",
        "  plt.subplot(1,5,index+1)\n",
        "  plt.title(f'Label: {labels[index].item()}')\n",
        "  plt.imshow(images[index].squeeze(),cmap=plt.cm.gray)"
      ]
    },
    {
      "cell_type": "markdown",
      "metadata": {
        "id": "kZ2g3FtmYUvZ"
      },
      "source": [
        "Setting up the model"
      ]
    },
    {
      "cell_type": "markdown",
      "source": [
        "Creating the structure of neural network as mentioned in the question with three hidden layers with 256,128,64 hidden neurons. \n",
        "Using CrossEntropyLoss for this multi class classification problem, and adam as the optimizer. \n",
        "I have used relu as the activation of the neural network "
      ],
      "metadata": {
        "id": "gpLQFgzw-nJq"
      }
    },
    {
      "cell_type": "code",
      "source": [
        "class NeuralNet(torch.nn.Module):\n",
        "     def __init__(self, input_size, hidden_size, num_classes):\n",
        "         super(NeuralNet, self).__init__()\n",
        "         self.input_size = input_size\n",
        "         self.l1 = torch.nn.Linear(input_size, hidden_size) \n",
        "         self.relu = torch.nn.ReLU()\n",
        "         self.l2 = torch.nn.Linear(256, 128) \n",
        "         self.l3 = torch.nn.Linear(128, 64) \n",
        "         self.l4 = torch.nn.Linear(64, num_classes)\n",
        "     def forward(self, x):\n",
        "         out = self.l1(x)\n",
        "         out = self.relu(out)\n",
        "         out = self.l2(out)\n",
        "         out = self.relu(out)\n",
        "         out = self.l3(out)\n",
        "         out = self.relu(out)\n",
        "         out = self.l4(out)\n",
        "         return out \n",
        "\n",
        "model = NeuralNet(28*28, 256, 10).cuda()\n",
        "loss = torch.nn.CrossEntropyLoss()\n",
        "optimizer = torch.optim.Adam(model.parameters(), lr=0.01) "
      ],
      "metadata": {
        "colab": {
          "base_uri": "https://localhost:8080/"
        },
        "id": "zvi1AgNKjI_5",
        "outputId": "369f2756-df23-4162-9950-6aa285719ffb"
      },
      "execution_count": null,
      "outputs": [
        {
          "output_type": "stream",
          "name": "stdout",
          "text": [
            "time: 8.78 ms (started: 2023-02-17 21:26:41 +00:00)\n"
          ]
        }
      ]
    },
    {
      "cell_type": "markdown",
      "source": [
        "*While* enumerating a batch, getting the predicted classes by getting the max of predicted probablities, storing all the correct predictions in correct_train and correct_test, accordigily for test and train and datasets. \n",
        "Using above to calculate the accuracy on test datsaset. \n",
        "\n",
        "Passing through the complete dataset 100 times (indicated by the number of epochs)\n",
        "\n",
        "Maintaing a history of train_loss, test_loss and accuracy over epochs. "
      ],
      "metadata": {
        "id": "X1-A3YL097Wf"
      }
    },
    {
      "cell_type": "code",
      "execution_count": null,
      "metadata": {
        "id": "zz4g0ccKYZuL",
        "colab": {
          "base_uri": "https://localhost:8080/"
        },
        "outputId": "493c06cf-a383-480a-8398-b1a88e4306b0"
      },
      "outputs": [
        {
          "output_type": "stream",
          "name": "stdout",
          "text": [
            "Accuracy on training data for epoch 0 is 0.8000333309173584\n",
            "Accuracy on test data for epoch 0 is 0.8375999927520752\n",
            "Epoch 0, Train loss 0.5521040716405108, Test loss 0.47340876234185164\n",
            "Accuracy on training data for epoch 1 is 0.8483499884605408\n",
            "Accuracy on test data for epoch 1 is 0.8384000062942505\n",
            "Epoch 1, Train loss 0.42481565612878625, Test loss 0.4741671671912928\n",
            "Accuracy on training data for epoch 2 is 0.8573833703994751\n",
            "Accuracy on test data for epoch 2 is 0.8459999561309814\n",
            "Epoch 2, Train loss 0.3991939752324939, Test loss 0.4196282727703167\n",
            "Accuracy on training data for epoch 3 is 0.8621500134468079\n",
            "Accuracy on test data for epoch 3 is 0.840999960899353\n",
            "Epoch 3, Train loss 0.3870049348708663, Test loss 0.43995572085593154\n",
            "Accuracy on training data for epoch 4 is 0.8677999973297119\n",
            "Accuracy on test data for epoch 4 is 0.8540999889373779\n",
            "Epoch 4, Train loss 0.3704046146002914, Test loss 0.42664471838124995\n",
            "Accuracy on training data for epoch 5 is 0.8682667016983032\n",
            "Accuracy on test data for epoch 5 is 0.8526999950408936\n",
            "Epoch 5, Train loss 0.36861984409503085, Test loss 0.41795487132421727\n",
            "Accuracy on training data for epoch 6 is 0.8700833320617676\n",
            "Accuracy on test data for epoch 6 is 0.8585999608039856\n",
            "Epoch 6, Train loss 0.36633598740135176, Test loss 0.41429863860652705\n",
            "Accuracy on training data for epoch 7 is 0.8741500377655029\n",
            "Accuracy on test data for epoch 7 is 0.8598999977111816\n",
            "Epoch 7, Train loss 0.3524784061001308, Test loss 0.41084816017348297\n",
            "Accuracy on training data for epoch 8 is 0.8760499954223633\n",
            "Accuracy on test data for epoch 8 is 0.8509999513626099\n",
            "Epoch 8, Train loss 0.34852528173341424, Test loss 0.4307139945827472\n",
            "Accuracy on training data for epoch 9 is 0.8771833181381226\n",
            "Accuracy on test data for epoch 9 is 0.8521999716758728\n",
            "Epoch 9, Train loss 0.3447982362751513, Test loss 0.426782084403524\n",
            "Accuracy on training data for epoch 10 is 0.878000020980835\n",
            "Accuracy on test data for epoch 10 is 0.8597999811172485\n",
            "Epoch 10, Train loss 0.33787444032140884, Test loss 0.4044812257122842\n",
            "Accuracy on training data for epoch 11 is 0.8788333535194397\n",
            "Accuracy on test data for epoch 11 is 0.8489999771118164\n",
            "Epoch 11, Train loss 0.3407292278415994, Test loss 0.4209750549998253\n",
            "Accuracy on training data for epoch 12 is 0.8809833526611328\n",
            "Accuracy on test data for epoch 12 is 0.8568999767303467\n",
            "Epoch 12, Train loss 0.3351575322052055, Test loss 0.44026340696082755\n",
            "Accuracy on training data for epoch 13 is 0.8806166648864746\n",
            "Accuracy on test data for epoch 13 is 0.8517999649047852\n",
            "Epoch 13, Train loss 0.3346665118024675, Test loss 0.45361576888971267\n",
            "Accuracy on training data for epoch 14 is 0.8827999830245972\n",
            "Accuracy on test data for epoch 14 is 0.863099992275238\n",
            "Epoch 14, Train loss 0.3282843353365784, Test loss 0.4028425962681983\n",
            "Accuracy on training data for epoch 15 is 0.8808333277702332\n",
            "Accuracy on test data for epoch 15 is 0.8652999997138977\n",
            "Epoch 15, Train loss 0.3390057009976429, Test loss 0.4049478060310813\n",
            "Accuracy on training data for epoch 16 is 0.8805666565895081\n",
            "Accuracy on test data for epoch 16 is 0.85999995470047\n",
            "Epoch 16, Train loss 0.3402682544389513, Test loss 0.4510346789174019\n",
            "Accuracy on training data for epoch 17 is 0.8810666799545288\n",
            "Accuracy on test data for epoch 17 is 0.8539999723434448\n",
            "Epoch 17, Train loss 0.3406394674881562, Test loss 0.4335638405221283\n",
            "Accuracy on training data for epoch 18 is 0.8825500011444092\n",
            "Accuracy on test data for epoch 18 is 0.8642999529838562\n",
            "Epoch 18, Train loss 0.32898875043939935, Test loss 0.4096192475526955\n",
            "Accuracy on training data for epoch 19 is 0.8858000040054321\n",
            "Accuracy on test data for epoch 19 is 0.8642999529838562\n",
            "Epoch 19, Train loss 0.32088180879619455, Test loss 0.41183557014936095\n",
            "Accuracy on training data for epoch 20 is 0.8833500146865845\n",
            "Accuracy on test data for epoch 20 is 0.8586999773979187\n",
            "Epoch 20, Train loss 0.3234688857756952, Test loss 0.4278756352556739\n",
            "Accuracy on training data for epoch 21 is 0.8859833478927612\n",
            "Accuracy on test data for epoch 21 is 0.8597999811172485\n",
            "Epoch 21, Train loss 0.3211157211600972, Test loss 0.42657573881802285\n",
            "Accuracy on training data for epoch 22 is 0.8860499858856201\n",
            "Accuracy on test data for epoch 22 is 0.8637999892234802\n",
            "Epoch 22, Train loss 0.32181831610514156, Test loss 0.41182707235881477\n",
            "Accuracy on training data for epoch 23 is 0.8866666555404663\n",
            "Accuracy on test data for epoch 23 is 0.8664000034332275\n",
            "Epoch 23, Train loss 0.3160392645674982, Test loss 0.41535407617972914\n",
            "Accuracy on training data for epoch 24 is 0.8904333710670471\n",
            "Accuracy on test data for epoch 24 is 0.8682000041007996\n",
            "Epoch 24, Train loss 0.30892522046878645, Test loss 0.41175422195795996\n",
            "Accuracy on training data for epoch 25 is 0.8878833651542664\n",
            "Accuracy on test data for epoch 25 is 0.8618999719619751\n",
            "Epoch 25, Train loss 0.31925310734619716, Test loss 0.4181138280850307\n",
            "Accuracy on training data for epoch 26 is 0.8915333151817322\n",
            "Accuracy on test data for epoch 26 is 0.859499990940094\n",
            "Epoch 26, Train loss 0.3057648172415396, Test loss 0.43654333909226073\n",
            "Accuracy on training data for epoch 27 is 0.8898000121116638\n",
            "Accuracy on test data for epoch 27 is 0.8499999642372131\n",
            "Epoch 27, Train loss 0.30588770069197807, Test loss 0.4318479404897447\n",
            "Accuracy on training data for epoch 28 is 0.8910666704177856\n",
            "Accuracy on test data for epoch 28 is 0.8571999669075012\n",
            "Epoch 28, Train loss 0.3061982495730111, Test loss 0.47561323386468707\n",
            "Accuracy on training data for epoch 29 is 0.8894500136375427\n",
            "Accuracy on test data for epoch 29 is 0.85589998960495\n",
            "Epoch 29, Train loss 0.31719077299080933, Test loss 0.44693883408786383\n",
            "Accuracy on training data for epoch 30 is 0.8901833295822144\n",
            "Accuracy on test data for epoch 30 is 0.8682999610900879\n",
            "Epoch 30, Train loss 0.31229704422657806, Test loss 0.40600092215522837\n",
            "Accuracy on training data for epoch 31 is 0.8971666693687439\n",
            "Accuracy on test data for epoch 31 is 0.8631999492645264\n",
            "Epoch 31, Train loss 0.2937899261220559, Test loss 0.4241779014752929\n",
            "Accuracy on training data for epoch 32 is 0.8905166983604431\n",
            "Accuracy on test data for epoch 32 is 0.8613999485969543\n",
            "Epoch 32, Train loss 0.3064655260736945, Test loss 0.4184474039609265\n",
            "Accuracy on training data for epoch 33 is 0.8941500186920166\n",
            "Accuracy on test data for epoch 33 is 0.857699990272522\n",
            "Epoch 33, Train loss 0.3005937845833393, Test loss 0.4804780082717823\n",
            "Accuracy on training data for epoch 34 is 0.8950666785240173\n",
            "Accuracy on test data for epoch 34 is 0.8651999831199646\n",
            "Epoch 34, Train loss 0.2971667356963859, Test loss 0.42933006337873497\n",
            "Accuracy on training data for epoch 35 is 0.8951833248138428\n",
            "Accuracy on test data for epoch 35 is 0.8593999743461609\n",
            "Epoch 35, Train loss 0.2905631992084258, Test loss 0.4558158414379047\n",
            "Accuracy on training data for epoch 36 is 0.8936333656311035\n",
            "Accuracy on test data for epoch 36 is 0.8671999573707581\n",
            "Epoch 36, Train loss 0.30952785927444887, Test loss 0.45081793673478876\n",
            "Accuracy on training data for epoch 37 is 0.8987333178520203\n",
            "Accuracy on test data for epoch 37 is 0.861299991607666\n",
            "Epoch 37, Train loss 0.29059930220008023, Test loss 0.4873549936303667\n",
            "Accuracy on training data for epoch 38 is 0.8938000202178955\n",
            "Accuracy on test data for epoch 38 is 0.863099992275238\n",
            "Epoch 38, Train loss 0.3086481322405308, Test loss 0.43296656344726586\n",
            "Accuracy on training data for epoch 39 is 0.8981833457946777\n",
            "Accuracy on test data for epoch 39 is 0.8722999691963196\n",
            "Epoch 39, Train loss 0.28886691110331747, Test loss 0.4884951841679348\n",
            "Accuracy on training data for epoch 40 is 0.8980166912078857\n",
            "Accuracy on test data for epoch 40 is 0.8682999610900879\n",
            "Epoch 40, Train loss 0.289543768684906, Test loss 0.4995353283586016\n",
            "Accuracy on training data for epoch 41 is 0.9000999927520752\n",
            "Accuracy on test data for epoch 41 is 0.8621000051498413\n",
            "Epoch 41, Train loss 0.282216955738853, Test loss 0.4779641628265381\n",
            "Accuracy on training data for epoch 42 is 0.8987166881561279\n",
            "Accuracy on test data for epoch 42 is 0.873699963092804\n",
            "Epoch 42, Train loss 0.28794144127351134, Test loss 0.43235390229969267\n",
            "Accuracy on training data for epoch 43 is 0.8934500217437744\n",
            "Accuracy on test data for epoch 43 is 0.8517999649047852\n",
            "Epoch 43, Train loss 0.30414159808045765, Test loss 0.5121162184484446\n",
            "Accuracy on training data for epoch 44 is 0.8907999992370605\n",
            "Accuracy on test data for epoch 44 is 0.8659999966621399\n",
            "Epoch 44, Train loss 0.31800592108480713, Test loss 0.5152605999806884\n",
            "Accuracy on training data for epoch 45 is 0.8999833464622498\n",
            "Accuracy on test data for epoch 45 is 0.8603000044822693\n",
            "Epoch 45, Train loss 0.2848731455232289, Test loss 0.46471069354540223\n",
            "Accuracy on training data for epoch 46 is 0.900600016117096\n",
            "Accuracy on test data for epoch 46 is 0.8517999649047852\n",
            "Epoch 46, Train loss 0.2860469558020073, Test loss 0.5124286813720776\n",
            "Accuracy on training data for epoch 47 is 0.8997666835784912\n",
            "Accuracy on test data for epoch 47 is 0.8705999851226807\n",
            "Epoch 47, Train loss 0.28264374973804457, Test loss 0.4613336726168918\n",
            "Accuracy on training data for epoch 48 is 0.9022166728973389\n",
            "Accuracy on test data for epoch 48 is 0.8684999942779541\n",
            "Epoch 48, Train loss 0.27850550071580576, Test loss 0.4669595170932211\n",
            "Accuracy on training data for epoch 49 is 0.8995333313941956\n",
            "Accuracy on test data for epoch 49 is 0.8694999814033508\n",
            "Epoch 49, Train loss 0.29430977975937733, Test loss 0.45432740383467096\n",
            "Accuracy on training data for epoch 50 is 0.9037333726882935\n",
            "Accuracy on test data for epoch 50 is 0.8610999584197998\n",
            "Epoch 50, Train loss 0.26939447551393814, Test loss 0.45469783104149397\n",
            "Accuracy on training data for epoch 51 is 0.9021166563034058\n",
            "Accuracy on test data for epoch 51 is 0.8671999573707581\n",
            "Epoch 51, Train loss 0.2816799649639107, Test loss 0.4591480433751064\n",
            "Accuracy on training data for epoch 52 is 0.9025166630744934\n",
            "Accuracy on test data for epoch 52 is 0.8673999905586243\n",
            "Epoch 52, Train loss 0.2730999343446704, Test loss 0.4428990763273968\n",
            "Accuracy on training data for epoch 53 is 0.9014000296592712\n",
            "Accuracy on test data for epoch 53 is 0.8660999536514282\n",
            "Epoch 53, Train loss 0.2823457893039753, Test loss 0.4882410991533547\n",
            "Accuracy on training data for epoch 54 is 0.9021833539009094\n",
            "Accuracy on test data for epoch 54 is 0.8434000015258789\n",
            "Epoch 54, Train loss 0.28033736497084344, Test loss 0.5448487825264596\n",
            "Accuracy on training data for epoch 55 is 0.8989166617393494\n",
            "Accuracy on test data for epoch 55 is 0.8679999709129333\n",
            "Epoch 55, Train loss 0.29248629705801704, Test loss 0.45104246676727466\n",
            "Accuracy on training data for epoch 56 is 0.9040166735649109\n",
            "Accuracy on test data for epoch 56 is 0.8646999597549438\n",
            "Epoch 56, Train loss 0.2770039429272543, Test loss 0.5742523561997018\n",
            "Accuracy on training data for epoch 57 is 0.9016166925430298\n",
            "Accuracy on test data for epoch 57 is 0.8648999929428101\n",
            "Epoch 57, Train loss 0.2843883220892725, Test loss 0.5156761778008406\n",
            "Accuracy on training data for epoch 58 is 0.9024333357810974\n",
            "Accuracy on test data for epoch 58 is 0.8640999794006348\n",
            "Epoch 58, Train loss 0.2838389400893183, Test loss 0.4735931569034127\n",
            "Accuracy on training data for epoch 59 is 0.9055666923522949\n",
            "Accuracy on test data for epoch 59 is 0.8640999794006348\n",
            "Epoch 59, Train loss 0.2703713123708455, Test loss 0.4638818270841222\n",
            "Accuracy on training data for epoch 60 is 0.9032999873161316\n",
            "Accuracy on test data for epoch 60 is 0.8637999892234802\n",
            "Epoch 60, Train loss 0.2738664538414875, Test loss 0.44703920925878415\n",
            "Accuracy on training data for epoch 61 is 0.9020666480064392\n",
            "Accuracy on test data for epoch 61 is 0.8643999695777893\n",
            "Epoch 61, Train loss 0.2824397489571495, Test loss 0.46238577944837556\n",
            "Accuracy on training data for epoch 62 is 0.9035166501998901\n",
            "Accuracy on test data for epoch 62 is 0.8769999742507935\n",
            "Epoch 62, Train loss 0.2813446381524491, Test loss 0.45848428766438915\n",
            "Accuracy on training data for epoch 63 is 0.9030666947364807\n",
            "Accuracy on test data for epoch 63 is 0.8649999499320984\n",
            "Epoch 63, Train loss 0.286414074499025, Test loss 0.4751746127749704\n",
            "Accuracy on training data for epoch 64 is 0.9015499949455261\n",
            "Accuracy on test data for epoch 64 is 0.8625999689102173\n",
            "Epoch 64, Train loss 0.28825923130075054, Test loss 0.5702984447881674\n",
            "Accuracy on training data for epoch 65 is 0.9017166495323181\n",
            "Accuracy on test data for epoch 65 is 0.8714999556541443\n",
            "Epoch 65, Train loss 0.28186020506089177, Test loss 0.509990344476548\n",
            "Accuracy on training data for epoch 66 is 0.9010500311851501\n",
            "Accuracy on test data for epoch 66 is 0.8626999855041504\n",
            "Epoch 66, Train loss 0.2896643761934629, Test loss 0.4692568428766955\n",
            "Accuracy on training data for epoch 67 is 0.904116690158844\n",
            "Accuracy on test data for epoch 67 is 0.8725999593734741\n",
            "Epoch 67, Train loss 0.27580450649963006, Test loss 0.45915624072217637\n",
            "Accuracy on training data for epoch 68 is 0.9000000357627869\n",
            "Accuracy on test data for epoch 68 is 0.8654999732971191\n",
            "Epoch 68, Train loss 0.2865186636842517, Test loss 0.4670630004375603\n",
            "Accuracy on training data for epoch 69 is 0.9068166613578796\n",
            "Accuracy on test data for epoch 69 is 0.8585000038146973\n",
            "Epoch 69, Train loss 0.2626747888590354, Test loss 0.4983649724608014\n",
            "Accuracy on training data for epoch 70 is 0.9072499871253967\n",
            "Accuracy on test data for epoch 70 is 0.8634999990463257\n",
            "Epoch 70, Train loss 0.26628792093300235, Test loss 0.4939311778374538\n",
            "Accuracy on training data for epoch 71 is 0.9083999991416931\n",
            "Accuracy on test data for epoch 71 is 0.8669999837875366\n",
            "Epoch 71, Train loss 0.2592266673114953, Test loss 0.48163131894959005\n",
            "Accuracy on training data for epoch 72 is 0.9047499895095825\n",
            "Accuracy on test data for epoch 72 is 0.8679999709129333\n",
            "Epoch 72, Train loss 0.28151776906905146, Test loss 0.5090077340033403\n",
            "Accuracy on training data for epoch 73 is 0.8990166783332825\n",
            "Accuracy on test data for epoch 73 is 0.868399977684021\n",
            "Epoch 73, Train loss 0.28267245020058107, Test loss 0.49742124205941607\n",
            "Accuracy on training data for epoch 74 is 0.9060333371162415\n",
            "Accuracy on test data for epoch 74 is 0.8727999925613403\n",
            "Epoch 74, Train loss 0.2685151848671978, Test loss 0.5217261180566375\n",
            "Accuracy on training data for epoch 75 is 0.9071666598320007\n",
            "Accuracy on test data for epoch 75 is 0.8726999759674072\n",
            "Epoch 75, Train loss 0.27281334620120046, Test loss 0.47016386640299657\n",
            "Accuracy on training data for epoch 76 is 0.909166693687439\n",
            "Accuracy on test data for epoch 76 is 0.8667999505996704\n",
            "Epoch 76, Train loss 0.25819952665234425, Test loss 0.4846107341396581\n",
            "Accuracy on training data for epoch 77 is 0.909683346748352\n",
            "Accuracy on test data for epoch 77 is 0.8632999658584595\n",
            "Epoch 77, Train loss 0.25765006899087034, Test loss 0.46856845962773463\n",
            "Accuracy on training data for epoch 78 is 0.9036833643913269\n",
            "Accuracy on test data for epoch 78 is 0.8695999979972839\n",
            "Epoch 78, Train loss 0.27760457029061786, Test loss 0.5269665454223658\n",
            "Accuracy on training data for epoch 79 is 0.9057666659355164\n",
            "Accuracy on test data for epoch 79 is 0.8704999685287476\n",
            "Epoch 79, Train loss 0.27562456700339244, Test loss 0.4784180768735849\n",
            "Accuracy on training data for epoch 80 is 0.9061333537101746\n",
            "Accuracy on test data for epoch 80 is 0.8726999759674072\n",
            "Epoch 80, Train loss 0.26994948174907707, Test loss 0.4465410592639522\n",
            "Accuracy on training data for epoch 81 is 0.9079833626747131\n",
            "Accuracy on test data for epoch 81 is 0.8734999895095825\n",
            "Epoch 81, Train loss 0.262875405718078, Test loss 0.45875727931025684\n",
            "Accuracy on training data for epoch 82 is 0.9088000059127808\n",
            "Accuracy on test data for epoch 82 is 0.8587999939918518\n",
            "Epoch 82, Train loss 0.2639132466063952, Test loss 0.5364862010357486\n",
            "Accuracy on training data for epoch 83 is 0.9020166993141174\n",
            "Accuracy on test data for epoch 83 is 0.8695999979972839\n",
            "Epoch 83, Train loss 0.2950602927322644, Test loss 0.4750572316775656\n",
            "Accuracy on training data for epoch 84 is 0.9043999910354614\n",
            "Accuracy on test data for epoch 84 is 0.8659999966621399\n",
            "Epoch 84, Train loss 0.2963552485341266, Test loss 0.5007764857475925\n",
            "Accuracy on training data for epoch 85 is 0.9082500338554382\n",
            "Accuracy on test data for epoch 85 is 0.8744999766349792\n",
            "Epoch 85, Train loss 0.26531055833755146, Test loss 0.44425353132615425\n",
            "Accuracy on training data for epoch 86 is 0.9112333655357361\n",
            "Accuracy on test data for epoch 86 is 0.8707999587059021\n",
            "Epoch 86, Train loss 0.2503199710059903, Test loss 0.4821774359721287\n",
            "Accuracy on training data for epoch 87 is 0.9118333458900452\n",
            "Accuracy on test data for epoch 87 is 0.8633999824523926\n",
            "Epoch 87, Train loss 0.25263673137388887, Test loss 0.5075993182932496\n",
            "Accuracy on training data for epoch 88 is 0.9050000309944153\n",
            "Accuracy on test data for epoch 88 is 0.8700000047683716\n",
            "Epoch 88, Train loss 0.27498168783433147, Test loss 0.5385247653077363\n",
            "Accuracy on training data for epoch 89 is 0.9104333519935608\n",
            "Accuracy on test data for epoch 89 is 0.8682999610900879\n",
            "Epoch 89, Train loss 0.25515125416266893, Test loss 0.5259886519734267\n",
            "Accuracy on training data for epoch 90 is 0.9061499834060669\n",
            "Accuracy on test data for epoch 90 is 0.8521999716758728\n",
            "Epoch 90, Train loss 0.2816872785626444, Test loss 0.6955099451314112\n",
            "Accuracy on training data for epoch 91 is 0.9091166853904724\n",
            "Accuracy on test data for epoch 91 is 0.8641999959945679\n",
            "Epoch 91, Train loss 0.25934524622473765, Test loss 0.5121934094056961\n",
            "Accuracy on training data for epoch 92 is 0.9065166711807251\n",
            "Accuracy on test data for epoch 92 is 0.8684999942779541\n",
            "Epoch 92, Train loss 0.26413607778055453, Test loss 0.5254782211438865\n",
            "Accuracy on training data for epoch 93 is 0.9071500301361084\n",
            "Accuracy on test data for epoch 93 is 0.8610000014305115\n",
            "Epoch 93, Train loss 0.27391410334659283, Test loss 0.5326608295083806\n",
            "Accuracy on training data for epoch 94 is 0.9120333194732666\n",
            "Accuracy on test data for epoch 94 is 0.856499969959259\n",
            "Epoch 94, Train loss 0.25640247333675686, Test loss 0.5957911575485946\n",
            "Accuracy on training data for epoch 95 is 0.9110000133514404\n",
            "Accuracy on test data for epoch 95 is 0.8634999990463257\n",
            "Epoch 95, Train loss 0.2605054894688605, Test loss 0.5419465520769168\n",
            "Accuracy on training data for epoch 96 is 0.9047166705131531\n",
            "Accuracy on test data for epoch 96 is 0.8702999949455261\n",
            "Epoch 96, Train loss 0.2879014814903995, Test loss 0.519555880575423\n",
            "Accuracy on training data for epoch 97 is 0.9115666747093201\n",
            "Accuracy on test data for epoch 97 is 0.8633999824523926\n",
            "Epoch 97, Train loss 0.2574230143224507, Test loss 0.5745099561799104\n",
            "Accuracy on training data for epoch 98 is 0.9094833731651306\n",
            "Accuracy on test data for epoch 98 is 0.8690999746322632\n",
            "Epoch 98, Train loss 0.2665631293074917, Test loss 0.4907698042833122\n",
            "Accuracy on training data for epoch 99 is 0.910966694355011\n",
            "Accuracy on test data for epoch 99 is 0.8707999587059021\n",
            "Epoch 99, Train loss 0.26096785151913987, Test loss 0.5084092011497279\n",
            "time: 14min 34s (started: 2023-02-17 21:26:41 +00:00)\n"
          ]
        }
      ],
      "source": [
        "train_loss_history = []\n",
        "test_loss_history = []\n",
        "accuracy_test_history = []\n",
        "\n",
        "# One epoch is passing over the training data once\n",
        "for epoch in range(100):\n",
        "  train_loss = 0.0\n",
        "  test_loss = 0.0\n",
        "  \n",
        "  model.train()\n",
        "  correct_train = 0\n",
        "  for i, data in enumerate(trainDataLoader):\n",
        "    images, labels = data\n",
        "    #Because we have our model on GPU, we need to push images and label on \n",
        "    #GPU as well\n",
        "    # Reshaping the image and pushing to GPU\n",
        "    images = images.reshape(-1, 28*28).cuda()\n",
        "    # images = images.cuda()\n",
        "    labels = labels.cuda()\n",
        "    optimizer.zero_grad() # zero out any gradient values from the previous iteration\n",
        "    predicted_output = model(images) # forward propagation  \n",
        "    fit = loss(predicted_output, labels)  # calculate our measure of goodness\n",
        "    fit.backward() # backpropagation\n",
        "    optimizer.step() # update the weights of our trainable parameters\n",
        "    train_loss += fit.item()\n",
        "    predicted_classes = torch.max(predicted_output, 1)[1]\n",
        "    correct_train += (predicted_classes == labels).float().sum()\n",
        "  accuracy_train = (correct_train) / 60000\n",
        "  print(\"Accuracy on training data for epoch {} is {}\".format(epoch, accuracy_train))\n",
        "\n",
        "  # Setting to evaluation mode, so no gradients are computed \n",
        "  model.eval()\n",
        "  correct_test = 0\n",
        "  for i, data in enumerate(testDataLoader):\n",
        "    #Telling pytorch again to not compute any gradients\n",
        "    with torch.no_grad():\n",
        "      images, labels = data\n",
        "      images = images.reshape(-1, 28*28).cuda()\n",
        "      labels = labels.cuda()\n",
        "      predicted_output = model(images)\n",
        "      fit = loss(predicted_output, labels)\n",
        "      test_loss += fit.item()\n",
        "      predicted_classes = torch.max(predicted_output, 1)[1]\n",
        "      correct_test += (predicted_classes == labels).float().sum()\n",
        "  accuracy_test = (correct_test) / 10000\n",
        "  accuracy_test_history += [accuracy_test]\n",
        "  print(\"Accuracy on test data for epoch {} is {}\".format(epoch, accuracy_test))\n",
        "  train_loss = train_loss / len(trainDataLoader)\n",
        "  test_loss = test_loss / len(testDataLoader)\n",
        "  train_loss_history += [train_loss]\n",
        "  test_loss_history += [test_loss]\n",
        "  print(f'Epoch {epoch}, Train loss {train_loss}, Test loss {test_loss}')\n"
      ]
    },
    {
      "cell_type": "markdown",
      "source": [
        "Accuracy on test data for epoch 100 is 0.8707999587059021"
      ],
      "metadata": {
        "id": "SEtci3JCXwNy"
      }
    },
    {
      "cell_type": "markdown",
      "source": [
        "Plotting train vs test error "
      ],
      "metadata": {
        "id": "AB6Y7TMbX5ts"
      }
    },
    {
      "cell_type": "code",
      "execution_count": null,
      "metadata": {
        "id": "2gXzAdGGZFF9",
        "colab": {
          "base_uri": "https://localhost:8080/",
          "height": 294
        },
        "outputId": "3634e941-36b1-4e46-9577-0be62c1d0de2"
      },
      "outputs": [
        {
          "output_type": "display_data",
          "data": {
            "text/plain": [
              "<Figure size 432x288 with 1 Axes>"
            ],
            "image/png": "[encoded data removed]"
          },
          "metadata": {
            "image/png": {
              "width": 385,
              "height": 261
            },
            "needs_background": "light"
          }
        },
        {
          "output_type": "stream",
          "name": "stdout",
          "text": [
            "time: 163 ms (started: 2023-02-17 21:41:15 +00:00)\n"
          ]
        }
      ],
      "source": [
        "plt.plot(range(100),train_loss_history,'-',linewidth=3,label='Train error')\n",
        "plt.plot(range(100),test_loss_history,'-',linewidth=3,label='Test error')\n",
        "plt.xlabel('epoch')\n",
        "plt.ylabel('loss')\n",
        "plt.grid(True)\n",
        "plt.legend()\n",
        "plt.show()"
      ]
    },
    {
      "cell_type": "markdown",
      "source": [
        "Getting the predicted outputs and labels of last batch "
      ],
      "metadata": {
        "id": "WSgk8052XvSD"
      }
    },
    {
      "cell_type": "code",
      "source": [
        "predicted_outputs = model(images)\n",
        "predicted_classes = torch.max(predicted_outputs, 1)[1]\n",
        "print('Predicted:', predicted_classes)\n",
        "fit = loss(predicted_output, labels)\n",
        "print('True labels:', labels)\n",
        "print(fit.item())"
      ],
      "metadata": {
        "colab": {
          "base_uri": "https://localhost:8080/"
        },
        "id": "WwUuhbCDMP5q",
        "outputId": "ad32870c-64e6-4ee8-cf16-f2e96e4b2a49"
      },
      "execution_count": null,
      "outputs": [
        {
          "output_type": "stream",
          "name": "stdout",
          "text": [
            "Predicted: tensor([3, 2, 7, 5, 8, 2, 5, 2, 8, 9, 1, 9, 1, 8, 1, 5], device='cuda:0')\n",
            "True labels: tensor([3, 2, 7, 5, 8, 4, 5, 6, 8, 9, 1, 9, 1, 8, 1, 5], device='cuda:0')\n",
            "0.23718209564685822\n",
            "time: 7.69 ms (started: 2023-02-17 21:41:16 +00:00)\n"
          ]
        }
      ]
    },
    {
      "cell_type": "markdown",
      "source": [
        "Reshaping the image back to 28*28"
      ],
      "metadata": {
        "id": "3HEhcNYdYweD"
      }
    },
    {
      "cell_type": "code",
      "source": [
        "images = [image.reshape(28,28) for image in images]"
      ],
      "metadata": {
        "colab": {
          "base_uri": "https://localhost:8080/"
        },
        "id": "Cia59D6cMgAq",
        "outputId": "3cdd6a42-8fdb-4490-cfe6-4a0f483f293a"
      },
      "execution_count": null,
      "outputs": [
        {
          "output_type": "stream",
          "name": "stdout",
          "text": [
            "time: 802 µs (started: 2023-02-17 21:41:16 +00:00)\n"
          ]
        }
      ]
    },
    {
      "cell_type": "markdown",
      "source": [
        "Printing 3 such images and predicting the probablities of all such classes\n",
        "\n",
        "Predicted probablities for all classes are also printed "
      ],
      "metadata": {
        "id": "jb3R_dKnY3mr"
      }
    },
    {
      "cell_type": "code",
      "source": [
        "plt.imshow(images[0].squeeze().cpu(), cmap=plt.cm.gray)\n",
        "plt.title(f'Pred: {predicted_classes[0].item()}, True: {labels[0].item()}')\n",
        "print(predicted_output[0])"
      ],
      "metadata": {
        "colab": {
          "base_uri": "https://localhost:8080/",
          "height": 345
        },
        "id": "OP5jV9KjMWvc",
        "outputId": "b3968718-bd85-4ac9-9c1b-346c07ed27d8"
      },
      "execution_count": null,
      "outputs": [
        {
          "output_type": "stream",
          "name": "stdout",
          "text": [
            "tensor([ 1.2493e+00,  2.1236e+00, -1.7564e+00,  5.8348e+00,  4.0315e-02,\n",
            "        -1.0745e+01,  6.7378e-01, -2.5876e+01, -2.1104e+00, -1.0167e+02],\n",
            "       device='cuda:0')\n"
          ]
        },
        {
          "output_type": "display_data",
          "data": {
            "text/plain": [
              "<Figure size 432x288 with 1 Axes>"
            ],
            "image/png": "[encoded data removed]"
          },
          "metadata": {
            "image/png": {
              "width": 251,
              "height": 263
            },
            "needs_background": "light"
          }
        },
        {
          "output_type": "stream",
          "name": "stdout",
          "text": [
            "time: 175 ms (started: 2023-02-17 21:41:16 +00:00)\n"
          ]
        }
      ]
    },
    {
      "cell_type": "markdown",
      "source": [
        "For the above image, we can see the index 3 has higher probabilty than all other classes, and is also the right prediction."
      ],
      "metadata": {
        "id": "JlmrICbRZfz2"
      }
    },
    {
      "cell_type": "code",
      "source": [
        "plt.imshow(images[1].squeeze().cpu(), cmap=plt.cm.gray)\n",
        "plt.title(f'Pred: {predicted_classes[1].item()}, True: {labels[1].item()}')\n",
        "print(predicted_output[1])"
      ],
      "metadata": {
        "colab": {
          "base_uri": "https://localhost:8080/",
          "height": 329
        },
        "id": "ZTmtOLJqNZVe",
        "outputId": "fe397cc6-ae38-4ea0-fb74-70a5172f64c5"
      },
      "execution_count": null,
      "outputs": [
        {
          "output_type": "stream",
          "name": "stdout",
          "text": [
            "tensor([  -2.9571,   -8.9350,    0.2727,   -5.0705,   -2.6250,  -42.6665,\n",
            "          -1.7860,  -90.4055,   -5.5648, -126.4115], device='cuda:0')\n"
          ]
        },
        {
          "output_type": "display_data",
          "data": {
            "text/plain": [
              "<Figure size 432x288 with 1 Axes>"
            ],
            "image/png": "[encoded data removed]"
          },
          "metadata": {
            "image/png": {
              "width": 251,
              "height": 263
            },
            "needs_background": "light"
          }
        },
        {
          "output_type": "stream",
          "name": "stdout",
          "text": [
            "time: 164 ms (started: 2023-02-17 21:41:16 +00:00)\n"
          ]
        }
      ]
    },
    {
      "cell_type": "markdown",
      "source": [
        "For the above image, we can see the index 2 has higher probabilty (0.2727) than all other classes, and is also the right prediction. All other classes are having negative probablities. "
      ],
      "metadata": {
        "id": "NZqp6OnOZv_9"
      }
    },
    {
      "cell_type": "code",
      "source": [
        "plt.imshow(images[2].squeeze().cpu(), cmap=plt.cm.gray)\n",
        "plt.title(f'Pred: {predicted_classes[2].item()}, True: {labels[2].item()}')\n",
        "print(predicted_output[2])"
      ],
      "metadata": {
        "colab": {
          "base_uri": "https://localhost:8080/",
          "height": 329
        },
        "id": "hcFzJB1jNbKT",
        "outputId": "4be50a71-100e-4649-ee5d-3fec34fc9ff0"
      },
      "execution_count": null,
      "outputs": [
        {
          "output_type": "stream",
          "name": "stdout",
          "text": [
            "tensor([-104.2550,  -71.8597, -105.0970, -101.7491,  -78.2025,   -5.5526,\n",
            "         -83.7825,   10.0736,  -22.0867,    0.1973], device='cuda:0')\n"
          ]
        },
        {
          "output_type": "display_data",
          "data": {
            "text/plain": [
              "<Figure size 432x288 with 1 Axes>"
            ],
            "image/png": "[encoded data removed]"
          },
          "metadata": {
            "image/png": {
              "width": 251,
              "height": 263
            },
            "needs_background": "light"
          }
        },
        {
          "output_type": "stream",
          "name": "stdout",
          "text": [
            "time: 288 ms (started: 2023-02-17 21:41:16 +00:00)\n"
          ]
        }
      ]
    },
    {
      "cell_type": "markdown",
      "source": [
        "For the above image, we can see the index 7 has higher probabilty (10.0736) than all other classes, and is also the right prediction. All other classes have much lower probablities. "
      ],
      "metadata": {
        "id": "AjBnhN3jZ7XR"
      }
    }
  ],
  "metadata": {
    "colab": {
      "provenance": [],
      "include_colab_link": true
    },
    "kernelspec": {
      "display_name": "Python 3",
      "name": "python3"
    },
    "language_info": {
      "name": "python"
    },
    "accelerator": "GPU",
    "gpuClass": "standard"
  },
  "nbformat": 4,
  "nbformat_minor": 0
}